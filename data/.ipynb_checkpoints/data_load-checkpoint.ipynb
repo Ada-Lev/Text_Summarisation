{
 "cells": [
  {
   "cell_type": "code",
   "execution_count": 14,
   "id": "157b6956",
   "metadata": {},
   "outputs": [],
   "source": [
    "import json\n",
    "import gzip\n",
    "\n",
    "with open(\"pubmed-dataset/test.txt\", mode=\"r\") as f:\n",
    "    data = [line for line in f]\n",
    "    #data = f.read()"
   ]
  },
  {
   "cell_type": "code",
   "execution_count": 15,
   "id": "435bb682",
   "metadata": {},
   "outputs": [],
   "source": [
    "import pandas as pd"
   ]
  },
  {
   "cell_type": "code",
   "execution_count": 19,
   "id": "5295a21a",
   "metadata": {},
   "outputs": [],
   "source": [
    "df = [row for row in data]"
   ]
  },
  {
   "cell_type": "code",
   "execution_count": 20,
   "id": "5127e65d",
   "metadata": {},
   "outputs": [
    {
     "data": {
      "text/plain": [
       "'{'"
      ]
     },
     "execution_count": 20,
     "metadata": {},
     "output_type": "execute_result"
    }
   ],
   "source": [
    "df[0]"
   ]
  },
  {
   "cell_type": "code",
   "execution_count": null,
   "id": "3d8d6c25",
   "metadata": {},
   "outputs": [],
   "source": []
  }
 ],
 "metadata": {
  "kernelspec": {
   "display_name": "Python 3 (ipykernel)",
   "language": "python",
   "name": "python3"
  },
  "language_info": {
   "codemirror_mode": {
    "name": "ipython",
    "version": 3
   },
   "file_extension": ".py",
   "mimetype": "text/x-python",
   "name": "python",
   "nbconvert_exporter": "python",
   "pygments_lexer": "ipython3",
   "version": "3.10.8"
  }
 },
 "nbformat": 4,
 "nbformat_minor": 5
}
